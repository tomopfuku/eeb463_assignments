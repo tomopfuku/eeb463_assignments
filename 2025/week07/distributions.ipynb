{
 "cells": [
  {
   "cell_type": "code",
   "execution_count": null,
   "id": "22fcc002",
   "metadata": {
    "lines_to_next_cell": 1
   },
   "outputs": [],
   "source": [
    "from random import random\n",
    "import math"
   ]
  },
  {
   "cell_type": "code",
   "execution_count": null,
   "id": "f571404f",
   "metadata": {
    "lines_to_next_cell": 1
   },
   "outputs": [],
   "source": [
    "def mean(vals):\n",
    "    addup=0.0\n",
    "    for i in vals:\n",
    "        addup += i\n",
    "    return addup / float(len(vals))"
   ]
  },
  {
   "cell_type": "code",
   "execution_count": null,
   "id": "6cf40dfe",
   "metadata": {
    "lines_to_next_cell": 1
   },
   "outputs": [],
   "source": [
    "def std(vals):\n",
    "    m = mean(vals)\n",
    "    diffsum = 0.0\n",
    "    for i in vals:\n",
    "        diffsum += (i-m) ** 2.0\n",
    "    s = math.sqrt( diffsum / float(len(vals)) )\n",
    "    return s"
   ]
  },
  {
   "cell_type": "code",
   "execution_count": null,
   "id": "75de694e",
   "metadata": {
    "lines_to_next_cell": 1
   },
   "outputs": [],
   "source": [
    "class uniform:\n",
    "    def __init__(self, lower=0.0, upper=1.0):\n",
    "        self.upper = upper\n",
    "        self.lower = lower\n",
    "\n",
    "    def random_vec(self, n=1):\n",
    "        vals = []\n",
    "        for i in range(n):\n",
    "            x = random()\n",
    "            rval = lower + (x * (upper-lower))\n",
    "            vals.append(rval)\n",
    "        return vals\n",
    "\n",
    "    def random_float(self):\n",
    "        x = random()\n",
    "        rval = self.lower + (x * (self.upper-self.lower))\n",
    "        return rval"
   ]
  },
  {
   "cell_type": "code",
   "execution_count": null,
   "id": "ad87cdac",
   "metadata": {
    "lines_to_next_cell": 1
   },
   "outputs": [],
   "source": [
    "class normal:\n",
    "    def __init__(self, mean = 0.0, sd = 1.0):\n",
    "        self.mean = mean\n",
    "        self.sd = sd\n",
    "\n",
    "    def sample(self, n=1, method=\"box_muller\"):\n",
    "        norm=[]\n",
    "        while True:\n",
    "            if len(norm) == n:\n",
    "                break\n",
    "            if len(norm) > n:\n",
    "                norm = norm[0:n]\n",
    "                break\n",
    "\n",
    "            # this is what we will use in class\n",
    "            if method == \"box_muller\":\n",
    "                x = random()\n",
    "                y = random()\n",
    "                xnorm = (((math.sqrt(-2 * math.log(x)) * math.cos(2. * math.pi * y))*self.sd)+self.mean)\n",
    "                ynorm = (((math.sqrt(-2 * math.log(x)) * math.sin(2. * math.pi * y))*self.sd)+self.mean)\n",
    "                norm.append(xnorm)\n",
    "                norm.append(ynorm)\n",
    "                #print(xnorm)\n",
    "                #print(ynorm)\n",
    "\n",
    "            # this is another approach for doing this that i am leaving because it is cool\n",
    "            elif method == \"polar\":\n",
    "                unif = uniform(-1.0,1.0)\n",
    "                while True:\n",
    "                    x = unif.random_float()\n",
    "                    y = unif.random_float()\n",
    "                    s = (x ** 2) + (y ** 2)\n",
    "                    if s > 0 and s < 1:\n",
    "                        break\n",
    "                xnorm = (((x/math.sqrt(s))*math.sqrt(-2*math.log(s)))*self.sd)+self.mean\n",
    "                ynorm = (((y/math.sqrt(s))*math.sqrt(-2*math.log(s)))*self.sd)+self.mean\n",
    "                norm.append(xnorm)\n",
    "                norm.append(ynorm)\n",
    "        return norm\n",
    "\n",
    "    def pdf(self, x):\n",
    "        dens = (1.0/(self.sd*math.sqrt(2*math.pi)))*(math.e ** (-.5 * (((x - self.mean)/self.sd)**2)))\n",
    "        return dens\n",
    "    \n",
    "    def log_pdf(self,x):\n",
    "        dens = math.log(1.0/(self.sd*math.sqrt(2*math.pi))) + ((-.5 * (((x - self.mean)/self.sd)**2)))\n",
    "        return dens\n",
    "        \n",
    "    \n",
    "    # calculates the mean and stdev from a sample\n",
    "    # and reassigns the parameters of the distribution\n",
    "    def fit_mle(self, sample):\n",
    "        self.mean = mean(sample)\n",
    "        self.sd = std(sample)\n",
    "        return"
   ]
  },
  {
   "cell_type": "code",
   "execution_count": null,
   "id": "c67b0cdf",
   "metadata": {
    "lines_to_next_cell": 1
   },
   "outputs": [],
   "source": [
    "class binomial:\n",
    "    def __init__(self,n,p):\n",
    "        self.n = n\n",
    "        self.p = p\n",
    "\n",
    "    def sample(self,rep=1):\n",
    "        res = []\n",
    "        for i in range(rep):\n",
    "            succ=0\n",
    "            for j in range(self.n):\n",
    "                r = random()\n",
    "                if r < self.p:\n",
    "                    succ += 1\n",
    "            res.append(succ)\n",
    "        return res\n",
    "    \n",
    "    def pdf(self, x):\n",
    "        num = math.factorial(self.n) \n",
    "        denom = ( math.factorial(x) * math.factorial(self.n - x) ) \n",
    "        perm = num / denom\n",
    "        dens = perm * (self.p ** x) * ((1.0 - self.p) ** (self.n - x))\n",
    "        return dens\n",
    "    \n",
    "    def log_pdf(self, x):\n",
    "        perm = math.factorial(self.n) / ( math.factorial(x) - math.factorial(self.n - x) ) \n",
    "        dens = math.log(perm) + math.log(self.p ** x) + math.log((1.0 - self.p) ** (self.n - x))\n",
    "        return dens "
   ]
  },
  {
   "cell_type": "code",
   "execution_count": null,
   "id": "d52bab52",
   "metadata": {
    "lines_to_next_cell": 1
   },
   "outputs": [],
   "source": [
    "class exponential:\n",
    "    def __init__(self,rate):\n",
    "        self.rate = rate\n",
    "\n",
    "    def random_vec(self, n=1):\n",
    "        exp = []\n",
    "        for rep in range(n):\n",
    "            r = random()\n",
    "            val = math.log(1-r)/(-self.rate)\n",
    "            exp.append(val)\n",
    "        return exp"
   ]
  },
  {
   "cell_type": "code",
   "execution_count": null,
   "id": "7828b9a0",
   "metadata": {
    "lines_to_next_cell": 1
   },
   "outputs": [],
   "source": [
    "def main():\n",
    "    norm = normal(0, 10)\n",
    "    #print(norm.random_vec(1000,\"box_muller\"))\n",
    "    exp = exponential(2)\n",
    "    print(exp.random_vec(2))"
   ]
  },
  {
   "cell_type": "code",
   "execution_count": null,
   "id": "6960b9dd",
   "metadata": {},
   "outputs": [],
   "source": [
    "if __name__ == \"__main__\":\n",
    "    main()"
   ]
  },
  {
   "cell_type": "code",
   "execution_count": null,
   "id": "4a96e180",
   "metadata": {},
   "outputs": [],
   "source": []
  },
  {
   "cell_type": "code",
   "execution_count": null,
   "id": "0fb6ed33",
   "metadata": {},
   "outputs": [],
   "source": []
  }
 ],
 "metadata": {
  "jupytext": {
   "cell_metadata_filter": "-all",
   "notebook_metadata_filter": "-all",
   "text_representation": {
    "extension": ".py",
    "format_name": "light"
   }
  },
  "kernelspec": {
   "display_name": "Python 3 (ipykernel)",
   "language": "python",
   "name": "python3"
  }
 },
 "nbformat": 4,
 "nbformat_minor": 5
}
