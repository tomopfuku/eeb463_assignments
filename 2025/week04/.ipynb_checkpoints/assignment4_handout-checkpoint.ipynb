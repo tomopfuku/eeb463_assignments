{
 "cells": [
  {
   "cell_type": "markdown",
   "id": "31200823",
   "metadata": {},
   "source": [
    "# Assignment 4 - Modeling evolutionary trends as random walks\n",
    "## EEB 463\n"
   ]
  },
  {
   "cell_type": "markdown",
   "id": "35fcf13b",
   "metadata": {},
   "source": [
    "This week, you will explore how Brownian motion behaves while using it to model the evolution of the mean phenotype of a species evolving over geologic time. In this assignment, you will implement your own Brownian motion simulations from scratch and use them to delve into the evolutionary dynamics that occur.\n",
    "\n",
    "To start off, you will need your normal distribution class. You can either copy your normal distribution class definition from last week and paste it in the cell below or you could paste it into a python script and import it as a python module in the cell below."
   ]
  },
  {
   "cell_type": "code",
   "execution_count": 1,
   "id": "9fbb513f",
   "metadata": {},
   "outputs": [],
   "source": [
    "## if you wish to redefine your normal class here:\n",
    "## class normal:\n",
    "\n",
    "\n",
    "## if you wish to import:\n",
    "## import distributions as dist\n"
   ]
  },
  {
   "cell_type": "markdown",
   "id": "7a791109",
   "metadata": {},
   "source": [
    "**Q1.** Let's say we are interested in understanding the dynamics by which average body length evolves in a trilobite species over its 10 million year stratigraphic record. Suppose we've calculated the mean body length from a population that existed toward the very beginning of the species' existence and want to generate some expectation of what possible paths the species might take if left to evolve entirely stochastically. We can model this problem by setting up a Brownian motion and examining the set of outcomes that occur.\n",
    "\n",
    "Remember from lecture that over a time window, the expected amount of Brownian change is a consequence of both $\\sigma$ and the length of the time window. We measure time in units of million year. We will set the value of $\\sigma$ to be 0.5 (so $\\sigma^2=0.25$ is the variance and $\\sigma=0.5$ is the standard deviation in trait values after 1 million years of evolution). Further, we will collect samples every $dt=0.1$ million years. Instantiate a normal distribution with mean and standard deviation that reflect an unbiased Brownian motion model with rate $\\sigma=0.5$ and $dt=0.1$. We will use this distribution to simulate the amount of evolutionary change between time intervals. Assign it to the variable `norm`. We will use this as the basis to simulate Brownian motion. Next, we will need to simulate. We will store the current body length in the variable `x_t`. Please set the initial value for `x_t` as 100.0 (we will say body length is measured in millimeters). This will represent the population at the beginning of the species' existence that we sampled. Next, construct a loop to simulate Brownian motion from this starting point over the 10 million year range of the species. Please collect samples from this simulation every $dt$ = 0.1 million year (i.e., you should end up with 100 samples over the 10 million year species duration). **[1 pt]**\n",
    "\n",
    "Once you've implemented the Brownian motion simulator, please wrap it in a loop to generate 50 simulated Brownian trajectories. Create a visualization of all these simulations. **[0.5]**"
   ]
  },
  {
   "cell_type": "code",
   "execution_count": null,
   "id": "d181e64b",
   "metadata": {},
   "outputs": [],
   "source": [
    "sigma = 0.5\n",
    "# COMPLETE ANSWER HERE"
   ]
  },
  {
   "cell_type": "markdown",
   "id": "b5c376b2",
   "metadata": {},
   "source": [
    "**Q2a.** Please modify the code from Q1 to store the body length values every 0.5 million years. You can do this by modifying the code from Q1 so that you will have a list of 20 lists (if you sample every .5 Myr over a 10 Myr interval, you will have 20 time slices), each of which stores the body lengths over all of the Brownian simulations at each 0.5 Myr time slice. Increase the number of simulations from 50 to 1000. **[1.5 pt]**"
   ]
  },
  {
   "cell_type": "code",
   "execution_count": null,
   "id": "ed3547d9",
   "metadata": {},
   "outputs": [],
   "source": [
    "# ANSWER HERE"
   ]
  },
  {
   "cell_type": "markdown",
   "id": "32969d5b",
   "metadata": {},
   "source": [
    "**Q2b.** Plot histograms representing the range of body lengths across all the simulated runs at time slices near the beginning of the time window (say the third slice), the middle (the tenth slice), and the end (19th slice). Describe the three distributions taken from each time slice. Particularly what shape do they seem to take? What are their central tendencies (means)? Does the variance appear to change as time increases? **[1.5 pt]**"
   ]
  },
  {
   "cell_type": "code",
   "execution_count": null,
   "id": "4a80b605",
   "metadata": {},
   "outputs": [],
   "source": [
    "# ANSWER HERE"
   ]
  },
  {
   "cell_type": "markdown",
   "id": "5f5ab0aa",
   "metadata": {},
   "source": [
    "**Q2c.** Calculate the variance of the distribution of simulated body lengths at each of the time slices. Create a plot to visualize how the variance of the Brownian process quantitatively over time and describe the shape of the curve **[0.5 pt]**. After answering this, interpret your results in biological terms. How does our ability to predict the possible range of values for body length change as the time window over which we are drawing our projection increases? **[0.5 pt]** "
   ]
  },
  {
   "cell_type": "code",
   "execution_count": null,
   "id": "2b4d81be",
   "metadata": {},
   "outputs": [],
   "source": [
    "# ANSWER HERE"
   ]
  },
  {
   "cell_type": "markdown",
   "id": "58d8d9ac",
   "metadata": {},
   "source": [
    "**Q3a.** Let's imagine that we want to understand how the average body length of our trilobite species might change if it were evolving under some sort of a directional trend, where every 0.1 million years, we expect the average body length to increase by about 0.3 millimeters. The variance accumulated over 1 million years is the same as in previous questions ($\\sigma^2$=0.25). Simulate 1000 replicated simulations under this modified Brownian process and plot the resulting collection of time series. **[1 pt]**"
   ]
  },
  {
   "cell_type": "code",
   "execution_count": null,
   "id": "5ad469d4",
   "metadata": {},
   "outputs": [],
   "source": [
    "# ANSWER HERE"
   ]
  },
  {
   "cell_type": "markdown",
   "id": "e45a8dc1",
   "metadata": {},
   "source": [
    "**Q3b.** Collect the body length values every 0.5 million years. Create a plot showing how the expected body length changes through time. Create another plot below this one showing how the variance changes. Interpret the results. By the end of the species' 10 million year duration, about how large do we expect the population to be, on average? How does the certainty of our body length forecast change over the course of time? **[1 pt]**"
   ]
  },
  {
   "cell_type": "code",
   "execution_count": null,
   "id": "15d1037c",
   "metadata": {},
   "outputs": [],
   "source": [
    "# ANSWER HERE"
   ]
  },
  {
   "cell_type": "markdown",
   "id": "13fa2c5b",
   "metadata": {},
   "source": [
    "**Q4a.** Let's imagine that we know that, given the environmental conditions reconstructed from the Cambrian rocks in which our trilobite species is found, smaller individuals with a body length of 50 millimeters would possess a mechanical advantage when swimming and hunting prey that we hypothesize may have translated to an increase in fecundity. Let's say that these conditions changed near the beginning of the species' range and differ from the environmental conditions of its ancestral species. We want to understand how the average body length of our trilobite species might change as the population adapts from its starting average body length of 100mm to this new optimum. Simulate an Ornstein-Uhlenbeck process using the normal distribution that you instantiated for the previous questions using equation 1 from the Butler and King article you read for class today. Keep $\\sigma=0.5$ as before and $dB(t)$ would be normally distributed with mean 0 and variance $dt=0.1$\n",
    "\n",
    "You may investigate a range of strengths for the adaptive regime occurring under this process and see how the dynamics change, but need only plot the distribution of simulated time series under a adaptive regime where alpha is fairly small (say between 0.02 and 0.1 or so). **[1.5 pts]**"
   ]
  },
  {
   "cell_type": "code",
   "execution_count": null,
   "id": "8beea967",
   "metadata": {},
   "outputs": [],
   "source": [
    "# ANSWER HERE"
   ]
  },
  {
   "cell_type": "markdown",
   "id": "e16e3aac",
   "metadata": {},
   "source": [
    "**Q4b.** Collect the body length values every 0.5 million years. Create a plot showing how the expected body length changes through time. Create another plot below this one showing how the variance changes. Describe the shapes of the curves and interpret the results. By the end of the species' 10 million year duration, about how large do we expect the population to be, on average? How does the certainty of our body length forecast change over the course of time? Does the population reach its optimum? How long does it take to adapt when alpha is small? What about when you increase it? **[2 pt]**"
   ]
  },
  {
   "cell_type": "code",
   "execution_count": null,
   "id": "4ff2a2be",
   "metadata": {},
   "outputs": [],
   "source": [
    "# ANSWER HERE"
   ]
  },
  {
   "cell_type": "markdown",
   "id": "3014cf2d",
   "metadata": {},
   "source": [
    "**Q4c.** Compare the dynamics that emerge from this OU model to those under the Brownian model with a directional trend. How are the dynamics similar and how are they different? Do they differ in their predictions over our 10 million year time window? **[1.5 pt]**"
   ]
  },
  {
   "cell_type": "markdown",
   "id": "6a78d046",
   "metadata": {},
   "source": [
    "**WRITE ANSWER HERE**"
   ]
  }
 ],
 "metadata": {
  "kernelspec": {
   "display_name": "Python 3 (ipykernel)",
   "language": "python",
   "name": "python3"
  },
  "language_info": {
   "codemirror_mode": {
    "name": "ipython",
    "version": 3
   },
   "file_extension": ".py",
   "mimetype": "text/x-python",
   "name": "python",
   "nbconvert_exporter": "python",
   "pygments_lexer": "ipython3",
   "version": "3.13.1"
  }
 },
 "nbformat": 4,
 "nbformat_minor": 5
}
