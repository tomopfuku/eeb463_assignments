{
 "cells": [
  {
   "cell_type": "markdown",
   "id": "61a58e0f",
   "metadata": {},
   "source": [
    "# Assignment 9: Continuous-time Markov chains and Poisson processes\n",
    "\n",
    "## EEB 463"
   ]
  },
  {
   "cell_type": "markdown",
   "id": "8021b070",
   "metadata": {},
   "source": [
    "## Introduction\n",
    "\n",
    "This week, we will be exploring the behaviour of continuous-time Markov chains to get a stronger intuition for their behaviour and properties."
   ]
  },
  {
   "cell_type": "markdown",
   "id": "14db94ea",
   "metadata": {},
   "source": [
    "## Q1. Simulating DNA substitutions\n",
    "\n",
    "For this question, you will construct a Q matrix for a CTMC model describing transitions between DNA bases, Adenine, Guanine, Cytosine, and Thymine. Remember that nucleotide bases fall into one of two types: purines (A and G) and pyrimidines (C and T). We will model substitutions by assuming two rates exist. One rate, which we will refer to as $r_i$, will describe the instantaneous rate of transitions, i.e., substitution between bases of the same type (i.e., purine -> purine or pyrimidine -> pyrimidine). The other rate, which we will refer to as $r_v$, will capture the rate of transversions, or substitutions across types."
   ]
  },
  {
   "cell_type": "markdown",
   "id": "74c16618",
   "metadata": {},
   "source": [
    "### Q1a.\n",
    "\n",
    "Please complete the function below to return a Q matrix, given imputed values for $r_i$ and $r_v$. Remember that each row gives the rate of moving from one base to another, based on column order. Use the order below. The column order should match the row order.\n",
    "\n",
    "row 0: A \n",
    "\n",
    "row 1: G\n",
    "\n",
    "row 2: C\n",
    "\n",
    "row 3: T\n",
    "\n",
    "_From this point forward, we will also map each of these integers to the corresponding base. So, under the CTMC, state 0 will refer to adenine, state 1 to guanine, etc._"
   ]
  },
  {
   "cell_type": "code",
   "execution_count": null,
   "id": "a2822bae",
   "metadata": {},
   "outputs": [],
   "source": [
    "# order: 0: A, 1: G, 2: C, 3: T\n",
    "def set_Q(ri,rv):\n",
    "    Q = np.array(\n",
    "        [ \n",
    "        [-(ri + (rv * 2.)), ri, rv, rv], \n",
    "        [ri, -(ri + (rv * 2.)), rv, rv],\n",
    "        [rv, rv, -(ri + (rv * 2.)), ri],\n",
    "        [rv, rv, ri, -(ri + (rv * 2.))]\n",
    "        ])\n",
    "    return Q"
   ]
  },
  {
   "cell_type": "markdown",
   "id": "abc0cbda",
   "metadata": {},
   "source": [
    "### Q1b.\n",
    "\n",
    "Create another function that simulates a realization of the CTMC given _Q_ and _dt_. In lecture, we used an example of a CTMC for a two-state (binary) character. Now, we are simulating under a four-state character. For a binary character, we determined if a change by drawing a random number and comparing it to the probability of changing state, based on the off-diagonal element in the row of the _P_ matrix corresponding to the current state. Here, if a change occurs, we could change into one of 3 alternatives. You may find it simplest to use `random.choices()`, which will select a random element from a list using a set of weights (which can be imputed using the `weights` parameter). The weight of moving to a character state is equal to its probability given _P_."
   ]
  },
  {
   "cell_type": "code",
   "execution_count": null,
   "id": "465c132a",
   "metadata": {},
   "outputs": [],
   "source": [
    "import numpy as np\n",
    "import random\n",
    "from scipy.linalg import expm\n",
    "\n",
    "def sim_DNA(Q, time_window, dt = 0.1):\n",
    "    char_state = 0\n",
    "    states = [char_state]\n",
    "    curtime = 0.\n",
    "    times = [curtime]\n",
    "    while curtime < time_window:\n",
    "        curtime += dt\n",
    "        P = expm(Q*dt)\n",
    "        cur_row = P[char_state]  # we'll pull out the row corresponding to our current state\n",
    "        prob_change = 1. - cur_row[char_state]  # find probability of change by pulling index opposite of char_state\n",
    "        \n",
    "        newstate = random.choices([i for i in range(4)], weights = cur_row, k = 1)[0]\n",
    "        char_state = newstate\n",
    "        states.append(char_state)\n",
    "        times.append(curtime)\n",
    "    return times, states"
   ]
  },
  {
   "cell_type": "markdown",
   "id": "e854c371",
   "metadata": {},
   "source": [
    "### Q1c.\n",
    "\n",
    "Run the function using a time window of 20, $r_i$ = 0.2 and $r_v$ = 0.1. Plot the results like we did in class to visualize all the substitutions over the time window."
   ]
  },
  {
   "cell_type": "code",
   "execution_count": null,
   "id": "e8db2cd4",
   "metadata": {},
   "outputs": [],
   "source": [
    "import matplotlib.pyplot as plt\n",
    "\n",
    "ri = 0.2\n",
    "rv = 0.1\n",
    "times,states = sim_DNA(set_Q(ri,rv),20.)\n",
    "plt.plot(times,states)\n",
    "plt.show()"
   ]
  },
  {
   "cell_type": "markdown",
   "id": "1524d367",
   "metadata": {},
   "source": [
    "## Q2. Inference of the CTMC"
   ]
  },
  {
   "cell_type": "markdown",
   "id": "d70f337e",
   "metadata": {},
   "source": [
    "### Q2a.\n",
    "\n",
    "Complete the function below to compute the log-likelihood of a time series of discrete states based on the model implemented above."
   ]
  },
  {
   "cell_type": "code",
   "execution_count": null,
   "id": "23686a50",
   "metadata": {},
   "outputs": [],
   "source": [
    "def calc_nuc_loglike(times, data, ri, rv):\n",
    "    ll = 0.0\n",
    "    for i in range(1,len(times)):\n",
    "        cur_state = data[i]\n",
    "        last_state = data[i-1]\n",
    "        dt = times[i] - times[i-1]\n",
    "        Q = set_Q(ri,rv)\n",
    "        P = expm(Q*dt)\n",
    "        like = P[last_state][cur_state]\n",
    "        stepll = math.log(like)\n",
    "        ll += stepll\n",
    "    return ll"
   ]
  },
  {
   "cell_type": "markdown",
   "id": "8fed94bb",
   "metadata": {},
   "source": [
    "### Q2b.\n",
    "\n",
    "Use code similar to that used in lecture to use this likelihood function to visualise the 2-dimensional likelihood surface of our rate parameters, $r_i$ and $r_v$. Make sure to update the ranges of parameters as well as the levels plotted, since the likelihoods will likely be scaled differently from the in-class example. After computing the likelihoods for all the combinations of parameter values, you might use the `min()` and `max()` functions to find the upper and lower thresholds of the computed likelihoods in order to determine an appropriate range of levels."
   ]
  },
  {
   "cell_type": "code",
   "execution_count": null,
   "id": "ec841da5",
   "metadata": {},
   "outputs": [],
   "source": [
    "import math\n",
    "\n",
    "X = np.linspace(.01, .4, 40)\n",
    "Y = np.linspace(.01, .4, 40)\n",
    "Xgrid, Ygrid = np.meshgrid(X, Y)\n",
    "z = []\n",
    "\n",
    "for yi in Y: \n",
    "    y_ll = []\n",
    "    for xi in X:\n",
    "        ll = calc_nuc_loglike(times,states,xi,yi)\n",
    "        y_ll.append(ll)\n",
    "        \n",
    "    z.append(y_ll)\n",
    "    \n",
    "levels = np.linspace(min(min(z)),max(max(z)),7) \n",
    "fig, ax = plt.subplots()\n",
    "CS = ax.contour(Xgrid,Ygrid,z,levels=levels)\n",
    "ax.clabel(CS, inline=True, fontsize=10)\n",
    "plt.xlabel(\"ri\")\n",
    "plt.ylabel(\"rv\")\n",
    "plt.show()"
   ]
  },
  {
   "cell_type": "markdown",
   "id": "b87142b2",
   "metadata": {},
   "source": [
    "### Q2c.\n",
    "\n",
    "Comment on the likelihood surface produced. Are the parameters more or less identifiable than the two-state model inferred in class? Explain any differences you see. "
   ]
  },
  {
   "cell_type": "markdown",
   "id": "6a9ea878",
   "metadata": {},
   "source": [
    "**PROVIDE ANSWER HERE**"
   ]
  },
  {
   "cell_type": "markdown",
   "id": "cca16ff5",
   "metadata": {},
   "source": [
    "## Q3. **Stationary Distribution**\n",
    "\n",
    "In you previous assignment you used the tail end of the MCMC to get what is known as its 'stationary distribution'.  In this question, we will gain intuition about what a stationary distribution and how to compute it in python for the CTCM of transitions and transversions. \n",
    "\n",
    "The stationary distribution ${\\pi} = (\\pi_0,\\pi_1,\\pi_2,\\pi_3)$ of the CTMC is the \"equilibrium\" point of the CTMC, i.e., once the probability of being in state $i$ becomes $\\pi_i$ for all $i$, the probability distribution of being in a given state stops changing. "
   ]
  },
  {
   "cell_type": "markdown",
   "id": "4f8356cb",
   "metadata": {},
   "source": [
    "### **Q3a** \n",
    "\n",
    "The stationary distribution ${\\pi}$ of a CTMC with transition matrix *Q* is given by solving the following linear equations \n",
    "\n",
    "<center> $\\mathbf{Q}^T\\pi^T = 0$ <center>\n",
    "<center> $\\displaystyle \\sum_{i} \\pi_i = 1$ <center>\n",
    "    \n",
    "To do this we will create a matrix $\\mathbf{A} = \\begin{bmatrix} \\mathbf{Q} \\\\ \\mathbf{1} \\end{bmatrix} $ where $\\mathbf{1} = [1,1,1,1]$. and $\\mathbf{b} = \\begin{bmatrix} 0 \\\\ 0 \\\\ 0 \\\\ 0 \\\\ 1 \\end{bmatrix}$. Then we can obtain the stationary distribution by solving $\\mathbf{A}\\pi=\\mathbf{b}$.\n",
    "    \n",
    "You can use `np.linalg.lstsq()` to do this. The first entry (which will be a list of 4 values) of the output is the stationary distribution.  \n",
    " "
   ]
  },
  {
   "cell_type": "code",
   "execution_count": null,
   "id": "ce09725b",
   "metadata": {},
   "outputs": [],
   "source": [
    "A = np.append(Q, np.transpose([[1,1,1,1]]), axis=1)\n",
    "A = np.transpose(A)\n",
    "b= np.array([0, 0, 0, 0, 1])\n",
    "x, residuals, rank, s = np.linalg.lstsq(A, b, rcond=None)\n",
    "print(x)"
   ]
  },
  {
   "cell_type": "markdown",
   "id": "5b92da12",
   "metadata": {},
   "source": [
    "### **Q3b** \n",
    "What is the probability of being in each state under the stationary distribution? Why does this make sense given the rates of transitions and transversions?"
   ]
  },
  {
   "cell_type": "markdown",
   "id": "ea06c0e3",
   "metadata": {},
   "source": [
    "WRITE ANSWER HERE"
   ]
  },
  {
   "cell_type": "markdown",
   "id": "d51af5c5",
   "metadata": {},
   "source": [
    "### Q3c \n",
    "\n",
    "From timeseries data of states from Q1c, make a histogram of the last 100 values. Now rerun `sim_DNA` with same values but for a longer time window (say 1000 units). Now plot a histogram for the timeseries data (which should have 10000 entries) excluding the first 1000 points. \n",
    "\n",
    "NOTE: For the histogram, use `bins = [-0.5,0.5,1.5,2.5,3.5]` and `density=True`.\n",
    "\n",
    "In which of the two cases above is the plotted histogram closer to the stationary distribution computed in Q3a? Give two reasons why? HINT: You might want to plot the histogram for last 100 values for the second case.  "
   ]
  },
  {
   "cell_type": "code",
   "execution_count": null,
   "id": "7097652b",
   "metadata": {},
   "outputs": [],
   "source": [
    "ri = 0.2\n",
    "rv = 0.1\n",
    "times,states = sim_DNA(set_Q(ri,rv),20.)\n",
    "\n",
    "plt.figure()\n",
    "plt.hist(states[-100:], bins = [-0.5,0.5,1.5,2.5,3.5], density = True)\n",
    "\n",
    "ri = 0.2\n",
    "rv = 0.1\n",
    "times,states = sim_DNA(set_Q(ri,rv),1000.)\n",
    "\n",
    "plt.figure()\n",
    "plt.hist(states[1000:], bins = [-0.5,0.5,1.5,2.5,3.5], density = True)"
   ]
  },
  {
   "cell_type": "markdown",
   "id": "bcb0cbed",
   "metadata": {},
   "source": [
    "### Q3d.\n",
    "\n",
    "Suppose you had a different Q matrix for the same problem, given by Q = $\\begin{bmatrix} -0.4 & 0.2 & 0.1 & 0.1 \\\\ 0.2 & -0.4 & 0.1 & 0.1 \\\\ 0.2 & 0.2 & -0.8 & 0.4 \\\\ 0.2 & 0.2 & 0.4 & -0.8  \\end{bmatrix}$ "
   ]
  },
  {
   "cell_type": "markdown",
   "id": "fa2c48fa",
   "metadata": {},
   "source": [
    "Given this new Q matrix answer the following questions \n",
    "\n",
    "**Q3d(i)** Compare the new Q matrix to one from previous questions. What is the difference mathematically (like what entries are different)? "
   ]
  },
  {
   "cell_type": "markdown",
   "id": "d1aa0c30",
   "metadata": {},
   "source": [
    "ANSWER HERE "
   ]
  },
  {
   "cell_type": "markdown",
   "id": "e5bac08a",
   "metadata": {},
   "source": [
    "**Q3d(ii)** Give a biological explanation for this new Q matrix, i.e., what does this tell us about the rates of transitions and transversions in purines vs in pyrimidines?"
   ]
  },
  {
   "cell_type": "markdown",
   "id": "fe0d0558",
   "metadata": {},
   "source": [
    "ANSWER HERE"
   ]
  },
  {
   "cell_type": "markdown",
   "id": "87cf191f",
   "metadata": {},
   "source": [
    "**Q3d(iii)** Without doing the computations or running any code, guess what the stationary distribution will look like under this new Q matrix?"
   ]
  },
  {
   "cell_type": "markdown",
   "id": "b62162ce",
   "metadata": {},
   "source": [
    "ANSWER HERE"
   ]
  }
 ],
 "metadata": {
  "kernelspec": {
   "display_name": "Python 3 (ipykernel)",
   "language": "python",
   "name": "python3"
  },
  "language_info": {
   "codemirror_mode": {
    "name": "ipython",
    "version": 3
   },
   "file_extension": ".py",
   "mimetype": "text/x-python",
   "name": "python",
   "nbconvert_exporter": "python",
   "pygments_lexer": "ipython3",
   "version": "3.13.1"
  }
 },
 "nbformat": 4,
 "nbformat_minor": 5
}
