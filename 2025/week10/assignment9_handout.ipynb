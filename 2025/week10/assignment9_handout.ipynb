{
 "cells": [
  {
   "cell_type": "markdown",
   "id": "61a58e0f",
   "metadata": {},
   "source": [
    "# Assignment 9: Using birth-death models to simulate diversification patterns\n",
    "\n",
    "## EEB 463"
   ]
  },
  {
   "cell_type": "markdown",
   "id": "8021b070",
   "metadata": {},
   "source": [
    "## Introduction\n",
    "\n",
    "This week, you will implement several tools to simulate a birth-death process and examine its behaviour."
   ]
  },
  {
   "cell_type": "markdown",
   "id": "14db94ea",
   "metadata": {},
   "source": [
    "## Q1. Exponential distribution\n",
    "\n",
    "Please copy your distributions module into this directory. Update it to implement your own exponential distribution class, with a `rate` attribute. Using the formula given in lecture, also implement a `sample` method to draw random samples from this distribution. Import `distributions`, instantiate an exponential distribution with rate = 0.3, and plot a histogram of 10000 random samples."
   ]
  },
  {
   "cell_type": "code",
   "execution_count": null,
   "id": "a2822bae",
   "metadata": {},
   "outputs": [],
   "source": [
    "# ANSWER HERE"
   ]
  },
  {
   "cell_type": "markdown",
   "id": "1524d367",
   "metadata": {},
   "source": [
    "## Q2. Birth-death with diversity equilibrium\n",
    "\n",
    "### Q2a.\n",
    "\n",
    "Please implement a diversity-dependent birth-death process, where the per-capita birth rate decreases linearly with diversity, $D$, relative to the starting rate, &lambda; and the per-capita death rate increases linearly with $D$, relative to starting rate &mu;. You may use the following functions to calculate diversity-dependent rates, $\\lambda_D$ and $\\mu_D$:\n",
    "\n",
    "$$ \\lambda_D =  \\lambda - \\alpha D $$\n",
    "\n",
    "$$ \\mu_D = \\mu + \\alpha D $$\n",
    "\n",
    "where &alpha; is a scaling constant (similar to &alpha; of the OU process).\n",
    "\n",
    "Simulate 100 birth-death replicates for 1000 time units, drawing waiting times from an exponential distribution. Remember that this distribution will change as the density-dependent rates change. \n",
    "\n",
    "Please use the following values:\n",
    "\n",
    "$\\lambda = 0.03$\n",
    "\n",
    "$\\mu = 0.02$\n",
    "\n",
    "$\\alpha = 0.00005$\n",
    "\n",
    "$D_{start} = 10$\n",
    "\n"
   ]
  },
  {
   "cell_type": "code",
   "execution_count": null,
   "id": "ec841da5",
   "metadata": {},
   "outputs": [],
   "source": [
    "# ANSWER HERE"
   ]
  },
  {
   "cell_type": "markdown",
   "id": "974576d9",
   "metadata": {},
   "source": [
    "Now plot all 100 replicates. "
   ]
  },
  {
   "cell_type": "code",
   "execution_count": null,
   "id": "59456467",
   "metadata": {},
   "outputs": [],
   "source": [
    "# ANSWER HERE"
   ]
  },
  {
   "cell_type": "markdown",
   "id": "ee415f3b",
   "metadata": {},
   "source": [
    "### Q2b. \n",
    "\n",
    "Next, plot the birth and death rates through time and consider how their variation results in the patterns observed in the species diversity curves. You don't need to write anything for this part. Just think about it."
   ]
  },
  {
   "cell_type": "code",
   "execution_count": null,
   "id": "93a98d3c",
   "metadata": {},
   "outputs": [],
   "source": [
    "# ANSWER HERE"
   ]
  },
  {
   "cell_type": "markdown",
   "id": "ec13c17f",
   "metadata": {},
   "source": [
    "### Q2b. \n",
    "\n",
    "You should be able to see your simulated replicates approach and track an equilibrium density of individuals. Rerun your simulations above, this time retaining all simulated values of $D$ once all of the replicates are in equilibrium. You should be able to simply retain all values of $D$ where t > 500. Plot a histogram of these values and describe the distribution $D$ takes over this equilibrium. What is the average number of species at equilibrium? Calculate it and assign it to the variable `mean_sp`\n",
    "\n"
   ]
  },
  {
   "cell_type": "code",
   "execution_count": null,
   "id": "8b1baa72",
   "metadata": {},
   "outputs": [],
   "source": [
    "# ANSWER HERE"
   ]
  },
  {
   "cell_type": "markdown",
   "id": "c94ef5a5",
   "metadata": {},
   "source": [
    "### Q2c.\n",
    "\n",
    "Modify your simulation code from Q2a yet again to retain all of the waiting times drawn from the shifting exponential distribution once the runs reach equilibrium. Plot a histogram below, setting the number of bins to 50. Does this distribution of waiting times make sense to you, given your input parameters?"
   ]
  },
  {
   "cell_type": "code",
   "execution_count": null,
   "id": "59e47bc3",
   "metadata": {},
   "outputs": [],
   "source": [
    "# ANSWER HERE"
   ]
  },
  {
   "cell_type": "markdown",
   "id": "4dabe74b",
   "metadata": {},
   "source": [
    "TYPE ANSWER HERE"
   ]
  },
  {
   "cell_type": "markdown",
   "id": "840d1a52",
   "metadata": {},
   "source": [
    "## Q3. Survivorship and extinction patterns"
   ]
  },
  {
   "cell_type": "markdown",
   "id": "35962688",
   "metadata": {},
   "source": [
    "### Q3a. \n",
    "\n",
    "Please complete the function below to keep track of the start and end times of each species in the simulation (like we did in class), but make sure to account for the density-dependent variation in speciation and extinction rates like you did in question 2. Like we did in class, your function should output a dictionary where the keys represent species names and the values are some kind of ordered container (like a list), with the start and end time for that species."
   ]
  },
  {
   "cell_type": "code",
   "execution_count": null,
   "id": "dd20771a",
   "metadata": {},
   "outputs": [],
   "source": [
    "# COMPLETE FUNCTION BELOW\n",
    "\n",
    "#def sim_bd_survivorship(b, d, time_window = 1000000., start_n = 10):\n",
    "#    species = {}\n",
    "#    return species"
   ]
  },
  {
   "cell_type": "markdown",
   "id": "50ea9e48",
   "metadata": {},
   "source": [
    "### Q3b.\n",
    "\n",
    "Run the function you wrote above to perform a simulation. Next, compute the _durations_ from each range (start and end time) for each species. With these durations in hand, plot their distribution in the form of a histogram."
   ]
  },
  {
   "cell_type": "code",
   "execution_count": null,
   "id": "b12876f0",
   "metadata": {},
   "outputs": [],
   "source": [
    "# ANSWER HERE"
   ]
  },
  {
   "cell_type": "markdown",
   "id": "8681f2a7",
   "metadata": {},
   "source": [
    "#### Q3b(i)\n",
    "\n",
    "Please comment on the shape of the resulting distribution. Does it resemble the constant rate example used in class? "
   ]
  },
  {
   "cell_type": "markdown",
   "id": "78426059",
   "metadata": {},
   "source": [
    "### Q3c. \n",
    "\n",
    "Plot the survivorship curve for the simulated durations."
   ]
  },
  {
   "cell_type": "code",
   "execution_count": null,
   "id": "d5ce6635",
   "metadata": {},
   "outputs": [],
   "source": [
    "# ANSWER HERE"
   ]
  },
  {
   "cell_type": "markdown",
   "id": "d938a8fd",
   "metadata": {},
   "source": [
    "#### Q3c(i)\n",
    "\n",
    "Do you think this rate-heterogeneous model Follows Van Valen's law like the rate-homogeneous example used in class?"
   ]
  },
  {
   "cell_type": "markdown",
   "id": "71710666",
   "metadata": {},
   "source": [
    "ANSWER HERE"
   ]
  }
 ],
 "metadata": {
  "kernelspec": {
   "display_name": "Python 3 (ipykernel)",
   "language": "python",
   "name": "python3"
  },
  "language_info": {
   "codemirror_mode": {
    "name": "ipython",
    "version": 3
   },
   "file_extension": ".py",
   "mimetype": "text/x-python",
   "name": "python",
   "nbconvert_exporter": "python",
   "pygments_lexer": "ipython3",
   "version": "3.11.6"
  }
 },
 "nbformat": 4,
 "nbformat_minor": 5
}
