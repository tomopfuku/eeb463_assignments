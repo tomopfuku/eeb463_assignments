{
 "cells": [
  {
   "cell_type": "markdown",
   "id": "129402aa",
   "metadata": {
    "slideshow": {
     "slide_type": "slide"
    }
   },
   "source": [
    "# week 10: more poisson processes: birth-death and lineage diversification\n",
    "\n",
    "## eeb463\n",
    "\n",
    "## tomo parins-fukuchi"
   ]
  },
  {
   "cell_type": "markdown",
   "id": "1e78f3e6",
   "metadata": {
    "slideshow": {
     "slide_type": "slide"
    }
   },
   "source": [
    "**how often do things happen?**\n",
    "\n",
    "- amino acid substitutions along a protein\n",
    "- speciation events in a large clade\n",
    "- fossil deposition events"
   ]
  },
  {
   "cell_type": "markdown",
   "id": "0fb8c9b5",
   "metadata": {
    "slideshow": {
     "slide_type": "slide"
    }
   },
   "source": [
    "**how often do things happen?**\n",
    "\n",
    "- typically might imagine a **rate**:\n",
    "    - substitution rate\n",
    "    - speciation rate\n",
    "    - fossilization rate"
   ]
  },
  {
   "cell_type": "markdown",
   "id": "bba494a9",
   "metadata": {
    "slideshow": {
     "slide_type": "slide"
    }
   },
   "source": [
    "**how often do things happen?**\n",
    "\n",
    "- typically might imagine a **rate**:\n",
    "    - substitution rate: how many substitutions occur per million years?\n",
    "    - speciation rate: how many new species form per million years?\n",
    "    - fossilization rate: how many fossils are preserved per million years?"
   ]
  },
  {
   "cell_type": "markdown",
   "id": "5fe6f03e",
   "metadata": {
    "slideshow": {
     "slide_type": "slide"
    }
   },
   "source": [
    "**this offers us a simple approach to simulation**\n",
    "\n",
    "- discretize time into steps\n",
    "- check to see if an event happened, given rate, &lambda;\n",
    "\n"
   ]
  },
  {
   "cell_type": "code",
   "execution_count": null,
   "id": "089a8f76",
   "metadata": {
    "slideshow": {
     "slide_type": "slide"
    }
   },
   "outputs": [],
   "source": [
    "# how many substitutions occur in a protein after 1000 time steps?\n",
    "\n",
    "import random\n",
    "import matplotlib.pyplot as plt\n",
    "\n",
    "n_subs = 0\n",
    "stt = [n_subs]\n",
    "rate = 0.05\n",
    "for i in range(999):\n",
    "    r = random.random()\n",
    "    if r < rate:\n",
    "        n_subs += 1\n",
    "    stt.append(n_subs)\n",
    "\n",
    "plt.plot([i for i in range(1000)], stt,\"o\")\n",
    "plt.xlabel(\"time step\")\n",
    "plt.ylabel(\"# substitutions\")\n",
    "plt.show()"
   ]
  },
  {
   "cell_type": "markdown",
   "id": "9d48318e",
   "metadata": {
    "slideshow": {
     "slide_type": "slide"
    }
   },
   "source": [
    "**how many events can we expect in time window $t$?**"
   ]
  },
  {
   "cell_type": "code",
   "execution_count": null,
   "id": "b46e0a96",
   "metadata": {
    "slideshow": {
     "slide_type": "slide"
    }
   },
   "outputs": [],
   "source": [
    "subs = []\n",
    "for _ in range(500):\n",
    "    n_subs = 0\n",
    "    rate = 0.05\n",
    "    for i in range(1000):\n",
    "        r = random.random()\n",
    "        if r < rate:\n",
    "            n_subs += 1\n",
    "    subs.append(n_subs)\n",
    "\n",
    "plt.hist(subs)\n",
    "plt.xlabel(\"# substitutions\")\n",
    "plt.ylabel(\"count\")\n",
    "plt.show()"
   ]
  },
  {
   "cell_type": "markdown",
   "id": "80444e53",
   "metadata": {
    "slideshow": {
     "slide_type": "slide"
    }
   },
   "source": [
    "**poisson distribution**\n",
    "\n",
    "- discrete probability dist\n",
    "- 1 param:\n",
    "  - &lambda; -- how often do events happen?\n"
   ]
  },
  {
   "cell_type": "markdown",
   "id": "a48e81b7",
   "metadata": {
    "slideshow": {
     "slide_type": "slide"
    }
   },
   "source": [
    "**poisson pmf**\n",
    "\n",
    "- probability of _k_ events in an interval, $t$:\n",
    "\n",
    "$$\\frac{(\\lambda t)^ke^{-\\lambda t}}{k!}$$"
   ]
  },
  {
   "cell_type": "code",
   "execution_count": null,
   "id": "029562fe",
   "metadata": {
    "slideshow": {
     "slide_type": "slide"
    }
   },
   "outputs": [],
   "source": [
    "def factorial(n):\n",
    "    nums = [i for i in range(n,1,-1)]\n",
    "    prod = 1\n",
    "    for i in nums:\n",
    "        prod *= i\n",
    "    return prod"
   ]
  },
  {
   "cell_type": "code",
   "execution_count": null,
   "id": "368619c7",
   "metadata": {
    "slideshow": {
     "slide_type": "slide"
    }
   },
   "outputs": [],
   "source": [
    "import math\n",
    "\n",
    "def poisson_pmf(lam, t, k):\n",
    "    num = ((lam*t)**k) * math.exp(-(lam*t))\n",
    "    denom = factorial(k)\n",
    "    return num / denom\n",
    "\n",
    "probs = []\n",
    "x = []\n",
    "for i in range(30,70):\n",
    "    probs.append(poisson_pmf(0.05,1000,i))\n",
    "    x.append(i)\n",
    "    \n",
    "plt.plot(x,probs,\"o\")\n",
    "plt.xlabel(\"# substitutions\")\n",
    "plt.ylabel(\"probability\")\n",
    "plt.show()\n"
   ]
  },
  {
   "cell_type": "markdown",
   "id": "dbb772b3",
   "metadata": {
    "slideshow": {
     "slide_type": "slide"
    }
   },
   "source": [
    "**how often do things happen?**\n",
    "   - how long do we need to wait between events?"
   ]
  },
  {
   "cell_type": "markdown",
   "id": "e12cb360",
   "metadata": {
    "slideshow": {
     "slide_type": "slide"
    }
   },
   "source": [
    "**poisson process**\n",
    "\n",
    "- counts (\\# events) over time follow a poisson distribution\n",
    "- waiting times between events are _exponentially_ distributed"
   ]
  },
  {
   "cell_type": "markdown",
   "id": "270334e4",
   "metadata": {
    "slideshow": {
     "slide_type": "slide"
    }
   },
   "source": [
    "\n",
    "**exponential**\n",
    "\n",
    "  - lopsided distribution\n",
    "  - single parameter: \"rate\" (aka \"lambda\")\n"
   ]
  },
  {
   "cell_type": "markdown",
   "id": "0e277f5d",
   "metadata": {
    "slideshow": {
     "slide_type": "slide"
    }
   },
   "source": [
    "\n",
    "**exponential**\n",
    "\n",
    "- cumulative density function:\n",
    "\n",
    "![h:500 center](images/exponential_cdf.svg)\n"
   ]
  },
  {
   "cell_type": "markdown",
   "id": "969467b5",
   "metadata": {
    "slideshow": {
     "slide_type": "slide"
    }
   },
   "source": [
    "\n",
    "**exponential**\n",
    "\n",
    "- probability density function:\n",
    "\n",
    "![h:500 center](images/exponential_pdf.svg)\n"
   ]
  },
  {
   "cell_type": "code",
   "execution_count": null,
   "id": "d54adf94",
   "metadata": {
    "slideshow": {
     "slide_type": "slide"
    }
   },
   "outputs": [],
   "source": [
    "import numpy as np\n",
    "\n",
    "def exp_pdf(lam, dt):\n",
    "    dens = lam * math.exp(-lam * dt)\n",
    "    return dens\n",
    "\n",
    "rates = [.2, .4, .6]\n",
    "for rate in rates:\n",
    "    probs = []\n",
    "    x = np.linspace(0,15,50)\n",
    "    for i in x:\n",
    "        probs.append(exp_pdf(rate, i))\n",
    "    plt.plot(x,probs,\"-\")\n",
    "    \n",
    "plt.xlabel(\"waiting time length (dt)\")\n",
    "plt.ylabel(\"density\")\n",
    "plt.show()"
   ]
  },
  {
   "cell_type": "code",
   "execution_count": null,
   "id": "156fbc2a",
   "metadata": {
    "slideshow": {
     "slide_type": "slide"
    }
   },
   "outputs": [],
   "source": [
    "# collect waiting times between mutations\n",
    "\n",
    "import random\n",
    "import matplotlib.pyplot as plt\n",
    "import numpy as np\n",
    "\n",
    "n_subs = 0\n",
    "w = []\n",
    "curw = 0\n",
    "rate = 0.05\n",
    "for i in range(5000):\n",
    "    r = random.random()\n",
    "    if r < rate:\n",
    "        n_subs += 1\n",
    "        w.append(curw)\n",
    "        curw = 0\n",
    "    else:\n",
    "        curw += 1\n",
    "\n",
    "plt.hist(w)\n",
    "plt.axvline(x=np.mean(w),color=\"black\")\n",
    "plt.text(70,100,\"mean # steps: \"+str(round(np.mean(w),2)))\n",
    "plt.xlabel(\"# time steps spent waiting\")\n",
    "plt.ylabel(\"frequency\")\n",
    "plt.show()"
   ]
  },
  {
   "cell_type": "markdown",
   "id": "63505e0c",
   "metadata": {
    "slideshow": {
     "slide_type": "slide"
    }
   },
   "source": [
    "**how often do things happen?**\n",
    "- expect a substitution to occur about once every 20 time steps given &lambda; = 0.05\n",
    "    - empirically, things seem to happen about every $ \\frac{1}{\\lambda} $ steps"
   ]
  },
  {
   "cell_type": "markdown",
   "id": "7cf31435",
   "metadata": {
    "slideshow": {
     "slide_type": "slide"
    }
   },
   "source": [
    "**poisson process**\n",
    "  - let's refer to the rate for the poisson processs as $\\lambda_p$\n",
    "  - times between events are exponential dist with:\n",
    "      - rate: $\\lambda_p $\n",
    "      - mean waight time: $ \\mu = \\frac{1}{\\lambda_p}$"
   ]
  },
  {
   "cell_type": "markdown",
   "id": "30ebf6ad",
   "metadata": {
    "slideshow": {
     "slide_type": "slide"
    }
   },
   "source": [
    "**waiting times**\n",
    "\n",
    "does this expectations actually align with what we see in the world?"
   ]
  },
  {
   "cell_type": "markdown",
   "id": "e2f6d79e",
   "metadata": {
    "slideshow": {
     "slide_type": "slide"
    }
   },
   "source": [
    "**waiting times**\n",
    "\n",
    "![bg right h:700](images/earthquakes.png)"
   ]
  },
  {
   "cell_type": "markdown",
   "id": "8e17f572",
   "metadata": {
    "slideshow": {
     "slide_type": "slide"
    }
   },
   "source": [
    "**waiting times**\n",
    "\n",
    "soccer goals (FIFA WC 1990-2000)"
   ]
  },
  {
   "cell_type": "markdown",
   "id": "224a9b71",
   "metadata": {
    "slideshow": {
     "slide_type": "slide"
    }
   },
   "source": [
    "**waiting times**\n",
    "\n",
    "![bg right h:700](images/goals.png)"
   ]
  },
  {
   "cell_type": "markdown",
   "id": "fda0d8bf",
   "metadata": {
    "slideshow": {
     "slide_type": "slide"
    }
   },
   "source": [
    "**waiting times**\n",
    "\n",
    "- american football scoring (GB packers 2023 season)"
   ]
  },
  {
   "cell_type": "markdown",
   "id": "a28253c0",
   "metadata": {
    "slideshow": {
     "slide_type": "slide"
    }
   },
   "source": [
    "**waiting times**\n",
    "\n",
    "![bg right h:700](images/all_pack.png)"
   ]
  },
  {
   "cell_type": "markdown",
   "id": "4310d119",
   "metadata": {
    "slideshow": {
     "slide_type": "slide"
    }
   },
   "source": [
    "**waiting times**\n",
    "\n",
    "![bg right h:700](images/opp_scores.png)"
   ]
  },
  {
   "cell_type": "markdown",
   "id": "93807397",
   "metadata": {
    "slideshow": {
     "slide_type": "slide"
    }
   },
   "source": [
    "**waiting times**\n",
    "\n",
    "![bg right h:700](images/pack_scores.png)"
   ]
  },
  {
   "cell_type": "markdown",
   "id": "ba5286fc",
   "metadata": {
    "slideshow": {
     "slide_type": "slide"
    }
   },
   "source": [
    "**waiting times**\n",
    "\n",
    "- exponentially distributed waiting times often a shockingly good fit\n",
    "- occasionally less so\n",
    "    - extension of basic poisson process may be more appropriate"
   ]
  },
  {
   "cell_type": "markdown",
   "id": "faa2f693",
   "metadata": {
    "slideshow": {
     "slide_type": "slide"
    }
   },
   "source": [
    "**how can we simulate a poisson process?** \n",
    "\n",
    "- we've simulated a poisson process by:\n",
    "    1. dividing a time frame into discrete slices\n",
    "    2. checking to see if an event happened in each slice, with prob &lambda;\n",
    "\n",
    "- there is a better way"
   ]
  },
  {
   "cell_type": "markdown",
   "id": "af7f00d2",
   "metadata": {
    "slideshow": {
     "slide_type": "slide"
    }
   },
   "source": [
    "**\"gillespie\" or \"doob-gilespie\" algorithm**\n",
    "\n",
    "- general approach is to draw waiting times from an exponential distribution\n",
    "  - determine when the \"next\" event is"
   ]
  },
  {
   "cell_type": "markdown",
   "id": "dcd9ea0d",
   "metadata": {
    "slideshow": {
     "slide_type": "slide"
    }
   },
   "source": [
    "\n",
    "**simulating exponential**\n",
    "\n",
    "- _u_ is a random number between 0 and 1\n",
    "- _rate_ is our exponential rate parameter\n",
    "\n",
    "$$ \\frac{\\log(1-u)}{-rate} $$\n"
   ]
  },
  {
   "cell_type": "markdown",
   "id": "5f1a1fd1",
   "metadata": {
    "slideshow": {
     "slide_type": "slide"
    }
   },
   "source": [
    "**simulating exponential**\n",
    "\n",
    "```\n",
    "draw = random()\n",
    "rate = 1        # can be any val > 0\n",
    "\n",
    "r = math.log(1-draw) / (-rate)\n",
    "```\n"
   ]
  },
  {
   "cell_type": "code",
   "execution_count": null,
   "id": "c0ebd739",
   "metadata": {
    "slideshow": {
     "slide_type": "slide"
    }
   },
   "outputs": [],
   "source": [
    "import distributions as dist\n",
    "\n",
    "lam = 0.05 # this will be our poisson process rate\n",
    "exp = dist.exponential(lam)\n",
    "\n",
    "curtime = 0.\n",
    "nsub = 0\n",
    "times = [curtime]\n",
    "subs = [nsub]\n",
    "while True:\n",
    "    w = exp.sample(1)[0]\n",
    "    curtime += w\n",
    "    if curtime > 1000.:\n",
    "        break\n",
    "    times.append(curtime)\n",
    "    nsub += 1\n",
    "    subs.append(nsub)\n",
    "\n"
   ]
  },
  {
   "cell_type": "code",
   "execution_count": null,
   "id": "c303eb2a",
   "metadata": {
    "slideshow": {
     "slide_type": "slide"
    }
   },
   "outputs": [],
   "source": [
    "plt.plot(times,subs,\"o\")\n",
    "plt.xlabel(\"time\")\n",
    "plt.ylabel(\"# substitutitons\")\n",
    "plt.show()"
   ]
  },
  {
   "cell_type": "markdown",
   "id": "70c810cc",
   "metadata": {
    "slideshow": {
     "slide_type": "slide"
    }
   },
   "source": [
    "**poisson processes**\n",
    "\n",
    "- there is a lot we can do with this\n"
   ]
  },
  {
   "cell_type": "markdown",
   "id": "1ecea02b",
   "metadata": {
    "slideshow": {
     "slide_type": "slide"
    }
   },
   "source": [
    "**poisson processes**\n",
    "\n",
    "- there is a lot we can do with this\n",
    "- let's quickly revisit our example from last week"
   ]
  },
  {
   "cell_type": "markdown",
   "id": "f2a65832",
   "metadata": {
    "slideshow": {
     "slide_type": "slide"
    }
   },
   "source": [
    "**poisson processes**\n",
    "\n",
    "![bg right h:700](images/ctmc.svg)"
   ]
  },
  {
   "cell_type": "code",
   "execution_count": null,
   "id": "aaf1a1be",
   "metadata": {
    "slideshow": {
     "slide_type": "slide"
    }
   },
   "outputs": [],
   "source": [
    "def set_Q(gain,loss):\n",
    "    Q = np.array(\n",
    "        [ \n",
    "        [-gain, gain], \n",
    "        [loss, -loss] \n",
    "        ])\n",
    "    return Q"
   ]
  },
  {
   "cell_type": "code",
   "execution_count": null,
   "id": "aea18807",
   "metadata": {
    "slideshow": {
     "slide_type": "slide"
    }
   },
   "outputs": [],
   "source": [
    "from scipy.linalg import expm\n",
    "import random\n",
    "import matplotlib.pyplot as plt\n",
    "\n",
    "def sim_discrete(Q, time_window, dt = 0.1):\n",
    "    char_state = 0\n",
    "    states = [char_state]\n",
    "    curtime = 0.\n",
    "    times = [curtime]\n",
    "    while curtime < time_window:\n",
    "        curtime += dt\n",
    "        P = expm(Q*dt)\n",
    "        cur_row = P[char_state]  # we'll pull out the row corresponding to our current state\n",
    "        prob_change = cur_row[abs(1 - char_state)]  # find probability of change by pulling index opposite of char_state\n",
    "        r = random.random()\n",
    "        if r < prob_change:\n",
    "            char_state = abs(1 - char_state)  # swap current character state to other\n",
    "        states.append(char_state)\n",
    "        times.append(curtime)\n",
    "    return times, states"
   ]
  },
  {
   "cell_type": "code",
   "execution_count": null,
   "id": "87ed9bb1",
   "metadata": {
    "slideshow": {
     "slide_type": "slide"
    }
   },
   "outputs": [],
   "source": [
    "Q = set_Q(0.2,0.1)\n",
    "times,states = sim_discrete(Q, 20.)\n",
    "plt.plot(times,states)\n",
    "plt.show()"
   ]
  },
  {
   "cell_type": "markdown",
   "id": "9f332461",
   "metadata": {
    "slideshow": {
     "slide_type": "slide"
    }
   },
   "source": [
    "**poisson processes**\n",
    "\n",
    "- in the approach above, we evenly spaced _dt_ and checked if a change occurred every _dt_"
   ]
  },
  {
   "cell_type": "code",
   "execution_count": null,
   "id": "0aa68c3a",
   "metadata": {
    "slideshow": {
     "slide_type": "slide"
    }
   },
   "outputs": [],
   "source": [
    "Q = set_Q(0.2,0.1)\n",
    "times,states = sim_discrete(Q, 20.)\n",
    "plt.plot(times,states,\"o\")\n",
    "plt.show()"
   ]
  },
  {
   "cell_type": "markdown",
   "id": "f74cc6a4",
   "metadata": {
    "slideshow": {
     "slide_type": "slide"
    }
   },
   "source": [
    "**poisson processes**\n",
    "\n",
    "- in the approach above, we evenly spaced _dt_ and checked if a change occurred every _dt_\n",
    "- we can instead find all _dt_ intervals where a change happens by drawing waiting times from an exponential distribution\n",
    "    - we will get the rate ($\\lambda$) parameter value from _Q_"
   ]
  },
  {
   "cell_type": "code",
   "execution_count": null,
   "id": "64e5000e",
   "metadata": {
    "slideshow": {
     "slide_type": "slide"
    }
   },
   "outputs": [],
   "source": [
    "from scipy.linalg import expm\n",
    "import random\n",
    "import matplotlib.pyplot as plt\n",
    "\n",
    "def sim_discrete_gillespie(Q, time_window):\n",
    "    char_state = 0\n",
    "    states = [char_state]\n",
    "    curtime = 0.\n",
    "    times = [curtime]\n",
    "    off_diag = Q[~np.eye(Q.shape[0],dtype=bool)]\n",
    "    event_rate = sum(off_diag)\n",
    "    wait_dist = dist.exponential(Q[0][1])\n",
    "    while True:\n",
    "        wait = wait_dist.sample(1)[0]\n",
    "        curtime += wait\n",
    "        if curtime > time_window:\n",
    "            times.append(time_window)\n",
    "            states.append(char_state)\n",
    "            break\n",
    "        char_state = abs(1 - char_state)\n",
    "        wait_dist.rate = Q[char_state][abs(1 - char_state)]  # need to change the rate in case they are assymetrical\n",
    "        times.append(curtime)\n",
    "        states.append(char_state)\n",
    "    return times, states"
   ]
  },
  {
   "cell_type": "code",
   "execution_count": null,
   "id": "96a05a2b",
   "metadata": {
    "slideshow": {
     "slide_type": "slide"
    }
   },
   "outputs": [],
   "source": [
    "Q = set_Q(0.2,0.1)\n",
    "times,states = sim_discrete_gillespie(Q,20)\n",
    "plt.plot(times,states,\"o\")\n",
    "plt.show()"
   ]
  },
  {
   "cell_type": "markdown",
   "id": "46ab965d",
   "metadata": {
    "slideshow": {
     "slide_type": "slide"
    }
   },
   "source": [
    "**poisson processes**\n",
    "\n",
    "- last week, we sampled the process at evenly spaced _dt_ intervals\n",
    "- now, we can sample only the _dt_ values that span substitution events\n",
    "    - this saves us a tremendous amount of computation"
   ]
  },
  {
   "cell_type": "markdown",
   "id": "26e243f6",
   "metadata": {
    "slideshow": {
     "slide_type": "slide"
    }
   },
   "source": [
    "## 5 minute break"
   ]
  },
  {
   "cell_type": "markdown",
   "id": "a79f9064",
   "metadata": {
    "slideshow": {
     "slide_type": "slide"
    }
   },
   "source": [
    "![bg right h:700](images/trilo_bud1.svg)"
   ]
  },
  {
   "cell_type": "markdown",
   "id": "50cc9e18",
   "metadata": {
    "slideshow": {
     "slide_type": "slide"
    }
   },
   "source": [
    "![bg right h:700](images/trilo_bud2.svg)"
   ]
  },
  {
   "cell_type": "markdown",
   "id": "0ade55f1",
   "metadata": {
    "slideshow": {
     "slide_type": "slide"
    }
   },
   "source": [
    "![bg right h:700](images/trilo_bud3.svg)"
   ]
  },
  {
   "cell_type": "markdown",
   "id": "0ef36f6c",
   "metadata": {
    "slideshow": {
     "slide_type": "slide"
    }
   },
   "source": [
    "![bg right h:700](images/trilo_bud4.svg)"
   ]
  },
  {
   "cell_type": "markdown",
   "id": "d5db7fd7",
   "metadata": {
    "slideshow": {
     "slide_type": "slide"
    }
   },
   "source": [
    "![bg right h:700](images/trilo_bud5.svg)"
   ]
  },
  {
   "cell_type": "markdown",
   "id": "a400704b",
   "metadata": {
    "slideshow": {
     "slide_type": "slide"
    }
   },
   "source": [
    "![bg right h:700](images/trilo_bud6.svg)"
   ]
  },
  {
   "cell_type": "markdown",
   "id": "22c40f02",
   "metadata": {
    "slideshow": {
     "slide_type": "slide"
    }
   },
   "source": [
    "![bg right h:700](images/trilo_bud7.svg)"
   ]
  },
  {
   "cell_type": "markdown",
   "id": "a000f826",
   "metadata": {
    "slideshow": {
     "slide_type": "slide"
    }
   },
   "source": [
    "![bg right h:700](images/trilo_bud8.svg)"
   ]
  },
  {
   "cell_type": "markdown",
   "id": "032ac8bc",
   "metadata": {
    "slideshow": {
     "slide_type": "slide"
    }
   },
   "source": [
    "**birth-death process**\n",
    "\n",
    "- models like this tell us a lot about how we might expect lineages to diversify\n",
    "\n",
    "\n"
   ]
  },
  {
   "cell_type": "markdown",
   "id": "fec9b7ee",
   "metadata": {
    "slideshow": {
     "slide_type": "slide"
    }
   },
   "source": [
    "**birth-death process**\n",
    "\n",
    "- models like this tell us a lot about how we might expect lineages to diversify\n",
    "- species stochastically:\n",
    "    - arise (birth)\n",
    "    - go extinct (death)\n",
    "\n"
   ]
  },
  {
   "cell_type": "markdown",
   "id": "26453f72",
   "metadata": {
    "slideshow": {
     "slide_type": "slide"
    }
   },
   "source": [
    "**birth-death process**\n",
    "\n",
    "- also useful for modeling:\n",
    "    - population growth\n",
    "    - disease outbreak dynamics\n",
    "    - lifespan of 18th century english surnames"
   ]
  },
  {
   "cell_type": "markdown",
   "id": "0595ddc2",
   "metadata": {
    "slideshow": {
     "slide_type": "slide"
    }
   },
   "source": [
    "\n",
    "**birth and death**\n",
    "\n",
    "  - population increments by integers according to params\n",
    "    - birth (_b_ aka &lambda;)\n",
    "    - death (_d_ aka &mu;)\n",
    "\n",
    "  - each birth or death is referred to as an 'event'\n",
    "      - we can model this as a poisson process\n",
    "  - if population size reaches 0, simulation is over\n"
   ]
  },
  {
   "cell_type": "markdown",
   "id": "d96e18c7",
   "metadata": {
    "slideshow": {
     "slide_type": "slide"
    }
   },
   "source": [
    "**birth and death**\n",
    "\n",
    "we assume that:\n",
    "  - this process is _markovian_\n",
    "  - events occur one at a time\n"
   ]
  },
  {
   "cell_type": "markdown",
   "id": "a2507349",
   "metadata": {
    "slideshow": {
     "slide_type": "slide"
    }
   },
   "source": [
    "\n",
    "**birth and death**\n",
    "\n",
    "  - simplest version is a \"pure birth\" process\n",
    "      - b > 0\n",
    "      - d = 0\n",
    "  - this is identical to our protein substitution example\n"
   ]
  },
  {
   "cell_type": "markdown",
   "id": "6de68e50",
   "metadata": {
    "slideshow": {
     "slide_type": "slide"
    }
   },
   "source": [
    "**birth and death**\n",
    "\n",
    "  - where b != d:\n",
    "    - waiting times between events are exponentially distributed \n",
    "        - rate = b + d"
   ]
  },
  {
   "cell_type": "markdown",
   "id": "5f04ded0",
   "metadata": {
    "slideshow": {
     "slide_type": "slide"
    }
   },
   "source": [
    "\n",
    "**birth and death**\n",
    "\n",
    "  - where b != d:\n",
    "    - waiting times between events are exponentially distributed \n",
    "        - rate = b + d\n",
    "    - probability of an event being a birth:\n",
    "        - $\\frac{b} { (b+d)}$\n",
    "    - probability of an event being a death:\n",
    "        - $\\frac{d} { (b+d)}$\n"
   ]
  },
  {
   "cell_type": "code",
   "execution_count": null,
   "id": "511dd5d3",
   "metadata": {
    "slideshow": {
     "slide_type": "slide"
    }
   },
   "outputs": [],
   "source": [
    "import distributions as dist\n",
    "\n",
    "b = 0.025\n",
    "d = 0.025\n",
    "lam = b + d\n",
    "exp = dist.exponential(lam)\n",
    "\n",
    "curtime = 0.\n",
    "n = 10\n",
    "times = [curtime]\n",
    "pop_size = [n]\n",
    "while True:\n",
    "    w = exp.sample(1)[0]\n",
    "    curtime += w\n",
    "    if curtime > 1000. or n == 0:\n",
    "        break\n",
    "    times.append(curtime)\n",
    "    if b / (b + d) > random.random():\n",
    "        n += 1\n",
    "    else:\n",
    "        n -= 1\n",
    "    pop_size.append(n)"
   ]
  },
  {
   "cell_type": "code",
   "execution_count": null,
   "id": "b1a4ab9d",
   "metadata": {
    "slideshow": {
     "slide_type": "slide"
    }
   },
   "outputs": [],
   "source": [
    "plt.plot(times,pop_size)\n",
    "plt.xlabel(\"time\")\n",
    "plt.ylabel(\"num. species\")\n",
    "plt.show()"
   ]
  },
  {
   "cell_type": "markdown",
   "id": "16dcbc0e",
   "metadata": {
    "slideshow": {
     "slide_type": "slide"
    }
   },
   "source": [
    "**birth-death process**\n",
    "\n",
    "- this process can be used to generate a stochastic distribution of trends"
   ]
  },
  {
   "cell_type": "code",
   "execution_count": null,
   "id": "6398a296",
   "metadata": {
    "slideshow": {
     "slide_type": "slide"
    }
   },
   "outputs": [],
   "source": [
    "def sim_bd_reps(b, d, time_window = 1000000., nrep = 100):\n",
    "    alltimes = []\n",
    "    pop_sizes = []\n",
    "    for _ in range(nrep):\n",
    "        curtime = 0.\n",
    "        n = 10\n",
    "        times = [curtime]\n",
    "        pop_size = [n]\n",
    "        while True:\n",
    "            w = exp.sample(1)[0]\n",
    "            curtime += w\n",
    "            if curtime > time_window or n == 0:\n",
    "                break\n",
    "            times.append(curtime)\n",
    "            if b / (b + d) > random.random():\n",
    "                n += 1\n",
    "            else:\n",
    "                n -= 1\n",
    "            pop_size.append(n)\n",
    "        alltimes.append(times)\n",
    "        pop_sizes.append(pop_size)\n",
    "    return alltimes,pop_sizes\n",
    "    "
   ]
  },
  {
   "cell_type": "code",
   "execution_count": null,
   "id": "4e800b98",
   "metadata": {
    "slideshow": {
     "slide_type": "slide"
    }
   },
   "outputs": [],
   "source": [
    "alltimes, pop_sizes = sim_bd_reps(0.5, 0.5, 10000., 10)\n",
    "\n",
    "for i in range(len(alltimes)):\n",
    "    times = alltimes[i]\n",
    "    pop_size = pop_sizes[i]\n",
    "    plt.plot(times,pop_size)\n",
    "\n",
    "plt.xlabel(\"time\")\n",
    "plt.ylabel(\"num species\")\n",
    "plt.show()"
   ]
  },
  {
   "cell_type": "code",
   "execution_count": null,
   "id": "7664010d",
   "metadata": {
    "slideshow": {
     "slide_type": "slide"
    }
   },
   "outputs": [],
   "source": [
    "alltimes, pop_sizes = sim_bd_reps(0.02, 0.03)\n",
    "\n",
    "for i in range(len(alltimes)):\n",
    "    times = alltimes[i]\n",
    "    pop_size = pop_sizes[i]\n",
    "    plt.plot(times,pop_size)\n",
    "\n",
    "plt.xlabel(\"time\")\n",
    "plt.ylabel(\"num species\")\n",
    "plt.show()"
   ]
  },
  {
   "cell_type": "code",
   "execution_count": null,
   "id": "f178c30e",
   "metadata": {
    "slideshow": {
     "slide_type": "slide"
    }
   },
   "outputs": [],
   "source": [
    "alltimes, pop_sizes = sim_bd_reps(0.03, 0.02)\n",
    "\n",
    "for i in range(len(alltimes)):\n",
    "    times = alltimes[i]\n",
    "    pop_size = pop_sizes[i]\n",
    "    plt.plot(times,pop_size)\n",
    "\n",
    "plt.xlabel(\"time\")\n",
    "plt.ylabel(\"num species\")\n",
    "plt.show()"
   ]
  },
  {
   "cell_type": "markdown",
   "id": "9ef10a77",
   "metadata": {
    "slideshow": {
     "slide_type": "slide"
    }
   },
   "source": [
    "**birth-death process**\n",
    "\n",
    "   - this approach assumes that births and deaths happen at the same rate regardless of pop size\n",
    "   - we might expect more events to occur when there are more individuals present\n",
    "   - need to reparameterize as _per-capita_ rates"
   ]
  },
  {
   "cell_type": "code",
   "execution_count": null,
   "id": "1168d800",
   "metadata": {
    "slideshow": {
     "slide_type": "slide"
    }
   },
   "outputs": [],
   "source": [
    "def sim_bd_per_capita_reps(b, d, time_window = 1000000., nrep = 100, start_n = 10):\n",
    "    alltimes = []\n",
    "    pop_sizes = []\n",
    "    for _ in range(nrep):\n",
    "        curtime = 0.\n",
    "        n = start_n\n",
    "        times = [curtime]\n",
    "        pop_size = [n]\n",
    "        exp = dist.exponential((b + d) * n)\n",
    "        while True:\n",
    "            w = exp.sample(1)[0]\n",
    "            curtime += w\n",
    "            if curtime > time_window:\n",
    "                break\n",
    "\n",
    "            if b / (b + d) > random.random():\n",
    "                n += 1\n",
    "            else:\n",
    "                n -= 1\n",
    "                \n",
    "            times.append(curtime)\n",
    "            pop_size.append(n) \n",
    "            exp.rate = (b + d) * n\n",
    "            if n == 0:\n",
    "                break\n",
    "\n",
    "        alltimes.append(times)\n",
    "        pop_sizes.append(pop_size)\n",
    "    return alltimes,pop_sizes"
   ]
  },
  {
   "cell_type": "markdown",
   "id": "fb907ef9",
   "metadata": {
    "slideshow": {
     "slide_type": "slide"
    }
   },
   "source": [
    "**birth-death process**\n",
    "\n",
    "- this version of the model ensures diversification is a multiplicative process"
   ]
  },
  {
   "cell_type": "code",
   "execution_count": null,
   "id": "e958e558",
   "metadata": {
    "slideshow": {
     "slide_type": "slide"
    }
   },
   "outputs": [],
   "source": [
    "starting_size = 100\n",
    "\n",
    "alltimes, pop_sizes = sim_bd_per_capita_reps(0.004, 0.003, 2000, 10, starting_size)\n",
    "\n",
    "for i in range(len(alltimes)):\n",
    "    times = alltimes[i]\n",
    "    pop_size = pop_sizes[i]\n",
    "    plt.plot(times,pop_size)\n",
    "\n",
    "plt.xlabel(\"time\")\n",
    "plt.ylabel(\"num species\")\n",
    "plt.show()"
   ]
  },
  {
   "cell_type": "markdown",
   "id": "67af741c",
   "metadata": {
    "slideshow": {
     "slide_type": "slide"
    }
   },
   "source": [
    "**birth-death process**\n",
    "\n",
    "- the growth curve is a consequence of the _net diversification rate_: $b - d$\n",
    "    - higher net div. rate -> faster multiplicative growth in species diversity"
   ]
  },
  {
   "cell_type": "markdown",
   "id": "1c0fdc3c",
   "metadata": {
    "slideshow": {
     "slide_type": "slide"
    }
   },
   "source": [
    "**birth-death process**\n",
    "\n",
    "- starting size of the clade also strongly determines dynamics"
   ]
  },
  {
   "cell_type": "code",
   "execution_count": null,
   "id": "35803613",
   "metadata": {
    "slideshow": {
     "slide_type": "slide"
    }
   },
   "outputs": [],
   "source": [
    "starting_size = 1\n",
    "\n",
    "alltimes, pop_sizes = sim_bd_per_capita_reps(0.005, 0.003, 1000, 10, starting_size)\n",
    "\n",
    "for i in range(len(alltimes)):\n",
    "    times = alltimes[i]\n",
    "    pop_size = pop_sizes[i]\n",
    "    plt.plot(times,pop_size)\n",
    "\n",
    "plt.xlabel(\"time\")\n",
    "plt.ylabel(\"num species\")\n",
    "plt.show()"
   ]
  },
  {
   "cell_type": "markdown",
   "id": "d6e5f4ea",
   "metadata": {
    "slideshow": {
     "slide_type": "slide"
    }
   },
   "source": [
    "**birth-death process**\n",
    "\n",
    "- n = 0 is an absorbing state\n",
    "- given infinite time, all trajectories will go extinct"
   ]
  },
  {
   "cell_type": "code",
   "execution_count": null,
   "id": "1b16b486",
   "metadata": {
    "slideshow": {
     "slide_type": "slide"
    }
   },
   "outputs": [],
   "source": [
    "starting_size = 10\n",
    "\n",
    "alltimes, pop_sizes = sim_bd_per_capita_reps(0.003, 0.003, 1000, 10, starting_size)\n",
    "\n",
    "for i in range(len(alltimes)):\n",
    "    times = alltimes[i]\n",
    "    pop_size = pop_sizes[i]\n",
    "    plt.plot(times,pop_size)\n",
    "\n",
    "plt.xlabel(\"time\")\n",
    "plt.ylabel(\"num species\")\n",
    "plt.show()"
   ]
  },
  {
   "cell_type": "markdown",
   "id": "db9b44ed",
   "metadata": {
    "slideshow": {
     "slide_type": "slide"
    }
   },
   "source": [
    "**birth-death process**\n",
    "\n",
    "- model makes assumptions about the probability of extinction throughout duration of a species\n",
    "    - specifically, a species is always at equal risk of extinction\n",
    " - let's verify that this assumption behaves as we expect using our simulations\n",
    " - can keep track of each individual species from the simulation, along w/ its speciation and extinction time"
   ]
  },
  {
   "cell_type": "code",
   "execution_count": null,
   "id": "e2fe5dff",
   "metadata": {
    "slideshow": {
     "slide_type": "slide"
    }
   },
   "outputs": [],
   "source": [
    "def sim_bd_survivorship(b, d, time_window = 1000000., start_n = 10):\n",
    "    species = {}\n",
    "    curtime = 0.\n",
    "    for i in range(start_n):\n",
    "        species[\"species\"+str(i)] = [0.]\n",
    "    extant_sp = list(species.keys())\n",
    "    exp = dist.exponential((b + d) * float(len(extant_sp)))\n",
    "\n",
    "    while True:\n",
    "        w = exp.sample(1)[0]\n",
    "        curtime += w\n",
    "        if curtime > time_window:\n",
    "            for sp in species:\n",
    "                duration = species[sp]\n",
    "                if len(duration) == 1:\n",
    "                    species[sp].append(time_window)\n",
    "            break\n",
    "\n",
    "        if b / (b + d) > random.random():\n",
    "            newsp = \"species\" + str(len(species))\n",
    "            species[newsp] = [curtime]\n",
    "            extant_sp.append(newsp)\n",
    "        else:\n",
    "            killsp = random.choice(extant_sp)\n",
    "            species[killsp].append(curtime)\n",
    "            extant_sp.remove(killsp)\n",
    "\n",
    "        exp.rate = (b + d) * float(len(extant_sp))\n",
    "        if len(extant_sp) == 0:\n",
    "            break\n",
    "\n",
    "    return species"
   ]
  },
  {
   "cell_type": "markdown",
   "id": "6187b62f",
   "metadata": {
    "slideshow": {
     "slide_type": "slide"
    }
   },
   "source": [
    "**birth-death process**\n",
    "\n",
    "- first thing we can do is visualize the distribution of species durations"
   ]
  },
  {
   "cell_type": "code",
   "execution_count": null,
   "id": "f649e757",
   "metadata": {
    "slideshow": {
     "slide_type": "slide"
    }
   },
   "outputs": [],
   "source": [
    "ranges = sim_bd_survivorship(0.002,0.002,10000,50)\n",
    "\n",
    "durations = []\n",
    "for i in ranges:\n",
    "    ran = ranges[i]\n",
    "    duration = ran[1] - ran[0]\n",
    "    durations.append(duration)\n",
    "plt.hist(durations)\n",
    "plt.xlabel(\"duration\")\n",
    "plt.ylabel(\"count`\")\n",
    "plt.axvline(np.median(durations),color=\"black\")\n",
    "plt.show()"
   ]
  },
  {
   "cell_type": "markdown",
   "id": "1e43c383",
   "metadata": {
    "slideshow": {
     "slide_type": "slide"
    }
   },
   "source": [
    "**birth-death process**\n",
    "\n",
    "what happens if we increase the rates?"
   ]
  },
  {
   "cell_type": "code",
   "execution_count": null,
   "id": "b9c1c355",
   "metadata": {
    "slideshow": {
     "slide_type": "slide"
    }
   },
   "outputs": [],
   "source": [
    "ranges = sim_bd_survivorship(0.009,0.009,10000,50)\n",
    "\n",
    "durations = []\n",
    "for i in ranges:\n",
    "    ran = ranges[i]\n",
    "    duration = ran[1] - ran[0]\n",
    "    durations.append(duration)\n",
    "plt.hist(durations)\n",
    "plt.xlabel(\"duration\")\n",
    "plt.ylabel(\"count`\")\n",
    "plt.axvline(np.median(durations),color=\"black\")\n",
    "plt.show()"
   ]
  },
  {
   "cell_type": "markdown",
   "id": "7def1d1c",
   "metadata": {
    "slideshow": {
     "slide_type": "slide"
    }
   },
   "source": [
    "**birth-death process**\n",
    "\n",
    "- temporal scale is a consequence of the _turnover rate:_ $b + d$\n",
    "- higher turnover = shorter durations"
   ]
  },
  {
   "cell_type": "markdown",
   "id": "5fccff4a",
   "metadata": {
    "slideshow": {
     "slide_type": "slide"
    }
   },
   "source": [
    "**birth-death process**\n",
    "\n",
    "- next, let's look at the survivorship curve"
   ]
  },
  {
   "cell_type": "code",
   "execution_count": null,
   "id": "e14ee8ac",
   "metadata": {
    "slideshow": {
     "slide_type": "slide"
    }
   },
   "outputs": [],
   "source": [
    "durations = np.array(durations)\n",
    "times = np.linspace(0.,max(durations)+0.1,20)\n",
    "surv = []\n",
    "\n",
    "for i in times:\n",
    "    n_surv = list(durations < i).count(False)\n",
    "    p_surv = float(n_surv) / len(durations)\n",
    "    surv.append(p_surv)\n",
    "\n",
    "\n",
    "plt.plot(times,surv)\n",
    "plt.semilogy(times, surv) \n",
    "plt.ylabel(\"prop. species surviving\")\n",
    "plt.xlabel(\"duration\")\n",
    "plt.show()"
   ]
  },
  {
   "cell_type": "markdown",
   "id": "4bce4bff",
   "metadata": {
    "slideshow": {
     "slide_type": "slide"
    }
   },
   "source": [
    "**birth-death process**\n",
    "\n",
    "- another way of thinking about this is that we combine two separate poisson processes\n",
    "    - one for speciation, one for extinction\n",
    "- waiting times between extinctions are exponentially distributed\n",
    "    - highest density is always on an immediate extinction\n",
    "- but risk of extinction for an individual species does not change throughout its duration\n",
    "    - there is some empirical support for this"
   ]
  },
  {
   "cell_type": "markdown",
   "id": "5a3537ed",
   "metadata": {
    "slideshow": {
     "slide_type": "slide"
    }
   },
   "source": [
    "**birth-death process**\n",
    "\n",
    "\n",
    "![bg right h:700](images/survivorship.svg)"
   ]
  },
  {
   "cell_type": "markdown",
   "id": "b3dedf9d",
   "metadata": {
    "slideshow": {
     "slide_type": "slide"
    }
   },
   "source": [
    "**birth-death process**\n",
    "\n",
    "- \"Van Valen's law\":\n",
    "    - biological taxa are always at a constant risk of extinction\n",
    "    - explained this pattern using the \"Red Queen\" model\n"
   ]
  },
  {
   "cell_type": "markdown",
   "id": "55f147b9",
   "metadata": {
    "slideshow": {
     "slide_type": "slide"
    }
   },
   "source": [
    "**birth-death process**\n",
    "\n",
    "> Now, here, you see, it takes all the running you can do just to keep in the same place. If you want to get somewhere else, you must run at least twice as fast!\n",
    "\n",
    "Red Queen from _Through the Looking Glass_"
   ]
  },
  {
   "cell_type": "markdown",
   "id": "249080b8",
   "metadata": {
    "slideshow": {
     "slide_type": "slide"
    }
   },
   "source": [
    "**birth-death process**\n",
    "\n",
    "- 'Red Queen' model:\n",
    "    - biotic interactions exert constant extinction pressure against taxa\n",
    "    - taxa adapt to better meet these pressures, but their antagonists do as well\n",
    "    - their risk of extinction remains constant\n"
   ]
  },
  {
   "cell_type": "markdown",
   "id": "80025b47",
   "metadata": {
    "slideshow": {
     "slide_type": "slide"
    }
   },
   "source": [
    "**birth-death process**\n",
    "\n",
    "- these ideas have prompted much exploration into the processes that might explain the pattern\n",
    "- most of this research has been rooted in birth-death and related processes\n",
    "    - these questions have demanded approaches for inference under birth-death models\n"
   ]
  },
  {
   "cell_type": "markdown",
   "id": "84740859",
   "metadata": {
    "slideshow": {
     "slide_type": "slide"
    }
   },
   "source": [
    "**birth-death process**\n",
    "\n",
    "- likelihood of speciation events\n",
    "\n",
    "![bg right h:700](images/phylogeny_model_bds_n_desc.svg)\n"
   ]
  },
  {
   "cell_type": "markdown",
   "id": "0b35a727",
   "metadata": {
    "slideshow": {
     "slide_type": "slide"
    }
   },
   "source": [
    "**birth-death process**\n",
    "\n",
    "- how often does speciation happen?\n",
    "- probability of a species giving rise to $k$ descendants over time $t$ given rate &lambda;\n",
    "\n",
    "$$P(n | t, \\lambda ) = \\frac{(\\lambda t)^ke^{-\\lambda t}}{k!}$$\n"
   ]
  },
  {
   "cell_type": "markdown",
   "id": "9cd51b41",
   "metadata": {
    "slideshow": {
     "slide_type": "slide"
    }
   },
   "source": [
    "**birth-death process**\n",
    "\n",
    "- likelihood of extinction events\n",
    "\n",
    "![bg right h:700](images/phylogeny_model_bds_extinction_t.svg)\n"
   ]
  },
  {
   "cell_type": "markdown",
   "id": "a1126f81",
   "metadata": {
    "slideshow": {
     "slide_type": "slide"
    }
   },
   "source": [
    "**birth-death process**\n",
    "\n",
    "- how often does extinction happen?\n",
    "- probability of waiting time $t$ until extinction given extinction rate &mu;\n",
    "\n",
    "$$P(e_t | t, \\mu ) = \\mu e^{-\\mu t}$$\n"
   ]
  },
  {
   "cell_type": "markdown",
   "id": "d66fa178",
   "metadata": {
    "slideshow": {
     "slide_type": "slide"
    }
   },
   "source": [
    "**birth-death process**\n",
    "\n",
    "- can derive likelihood functions using these equations to:\n",
    "    - fit birth-death model parameters that best explain fossil dataset"
   ]
  },
  {
   "cell_type": "markdown",
   "id": "d5921eff",
   "metadata": {
    "slideshow": {
     "slide_type": "slide"
    }
   },
   "source": [
    "**birth-death process**\n",
    "\n",
    "\n",
    "![bg right h:700](images/birth_death_likelihood.png)\n"
   ]
  },
  {
   "cell_type": "markdown",
   "id": "9637dd61",
   "metadata": {
    "slideshow": {
     "slide_type": "slide"
    }
   },
   "source": [
    "**birth-death process**\n",
    "\n",
    "- can even fit more complex models where rates vary through time or among lineages"
   ]
  },
  {
   "cell_type": "markdown",
   "id": "2b380487",
   "metadata": {
    "slideshow": {
     "slide_type": "slide"
    }
   },
   "source": [
    "**birth-death process**\n",
    "\n",
    "![bg right h:700](images/foote_div.png)\n",
    "\n"
   ]
  },
  {
   "cell_type": "markdown",
   "id": "ec6ad4b8",
   "metadata": {
    "slideshow": {
     "slide_type": "slide"
    }
   },
   "source": [
    "**birth-death process**\n",
    "\n",
    "- can derive likelihood functions using these equations to:\n",
    "    - fit birth-death model parameters that best explain fossil dataset\n",
    "    - fit survivorship curves based on parameter estimates\n"
   ]
  },
  {
   "cell_type": "markdown",
   "id": "2a3f5c90",
   "metadata": {
    "slideshow": {
     "slide_type": "slide"
    }
   },
   "source": [
    "**birth-death process**\n",
    "\n",
    "![bg right h:700](images/trilobite_survivorship.png)\n",
    "\n"
   ]
  },
  {
   "cell_type": "markdown",
   "id": "1eff51fb",
   "metadata": {
    "slideshow": {
     "slide_type": "slide"
    }
   },
   "source": [
    "**birth-death process**\n",
    "\n",
    "> Using a time-homogeneous branching model, it is estimated that trilobite genera and species originating during the Ordovician survived three times longer than Cambrian genera and species... Some of the ultimate causes of these differences in survivorship include (1) taxonomic inconsistency, (2) greater environmental stability in the Ordovician, and (3) more highly structured ecosystems in the Ordovician that may have led to the weeding out of extinction-prone taxa.\n",
    "\n",
    "Foote 1988, _Paleobiology_, \"Survivorship analysis of Cambrian and Ordovician trilobites\" "
   ]
  },
  {
   "cell_type": "markdown",
   "id": "a617aa69",
   "metadata": {
    "slideshow": {
     "slide_type": "slide"
    }
   },
   "source": [
    "**birth-death process**\n",
    "\n",
    "- VV's law is consistent with a birth-death model\n",
    "- what if Van Valen was wrong?\n",
    "- can alternative stochastic processes better explain what we see?\n"
   ]
  },
  {
   "cell_type": "markdown",
   "id": "efd0f1e9",
   "metadata": {
    "slideshow": {
     "slide_type": "slide"
    }
   },
   "source": [
    "**birth-death process**\n",
    "\n",
    "![bg right h:700](images/survivorship_raup.png)\n"
   ]
  },
  {
   "cell_type": "markdown",
   "id": "ec00abb2",
   "metadata": {
    "slideshow": {
     "slide_type": "slide"
    }
   },
   "source": [
    "**birth-death process**\n",
    "\n",
    "- sometimes, variations of the standard birth-death process explain better the patterns we see\n"
   ]
  },
  {
   "cell_type": "markdown",
   "id": "deac2dca",
   "metadata": {
    "slideshow": {
     "slide_type": "slide"
    }
   },
   "source": [
    "**birth-death process**\n",
    "\n",
    "![bg right h:700](images/hubbell.svg)\n",
    "\n"
   ]
  },
  {
   "cell_type": "markdown",
   "id": "1a07329d",
   "metadata": {
    "slideshow": {
     "slide_type": "slide"
    }
   },
   "source": [
    "**birth-death process**\n",
    "\n",
    "- Hubbell's neutral theory (remember the forest fires from week 3) is based on a birth-death model\n",
    "- examines how stochastic changes in relative abundance of lineages can lead to extinction\n",
    "    - contains terms for community size, reproductive rate, speciation rate"
   ]
  },
  {
   "cell_type": "markdown",
   "id": "271b706d",
   "metadata": {
    "slideshow": {
     "slide_type": "slide"
    }
   },
   "source": [
    "**birth-death process**\n",
    "\n",
    "\n",
    "![bg right h:700](images/neutral.png)\n"
   ]
  },
  {
   "cell_type": "markdown",
   "id": "8103972a",
   "metadata": {
    "slideshow": {
     "slide_type": "slide"
    }
   },
   "source": [
    "**birth-death process**\n",
    "\n",
    "- this is the case for patterns other than survivorship as well"
   ]
  },
  {
   "cell_type": "markdown",
   "id": "e4dbbf84",
   "metadata": {
    "slideshow": {
     "slide_type": "slide"
    }
   },
   "source": [
    "**birth-death process**\n",
    "\n",
    "- it may be more biologically realistic to expect an equilibrium diversity\n",
    "\n",
    "\n",
    "![bg right h:700](images/sepkoski.png)"
   ]
  }
 ],
 "metadata": {
  "celltoolbar": "Slideshow",
  "kernelspec": {
   "display_name": "Python 3 (ipykernel)",
   "language": "python",
   "name": "python3"
  },
  "language_info": {
   "codemirror_mode": {
    "name": "ipython",
    "version": 3
   },
   "file_extension": ".py",
   "mimetype": "text/x-python",
   "name": "python",
   "nbconvert_exporter": "python",
   "pygments_lexer": "ipython3",
   "version": "3.11.6"
  }
 },
 "nbformat": 4,
 "nbformat_minor": 5
}
